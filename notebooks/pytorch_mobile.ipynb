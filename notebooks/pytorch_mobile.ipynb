{
  "nbformat": 4,
  "nbformat_minor": 0,
  "metadata": {
    "colab": {
      "provenance": []
    },
    "kernelspec": {
      "name": "python3",
      "display_name": "Python 3"
    },
    "language_info": {
      "name": "python"
    }
  },
  "cells": [
    {
      "cell_type": "code",
      "source": [
        "import torchvision\n",
        "import torch"
      ],
      "metadata": {
        "id": "zF91tr64Cow0"
      },
      "execution_count": null,
      "outputs": []
    },
    {
      "cell_type": "code",
      "source": [
        "resnet18 = torchvision.models.resnet18(pretrained=True)"
      ],
      "metadata": {
        "id": "7HKDg0oMCYX2"
      },
      "execution_count": null,
      "outputs": []
    },
    {
      "cell_type": "code",
      "source": [
        "resnet18.eval()"
      ],
      "metadata": {
        "id": "aAeoKXwtCswg"
      },
      "execution_count": null,
      "outputs": []
    },
    {
      "cell_type": "code",
      "source": [
        "example_inputs = torch.rand(1, 3, 224, 224)\n",
        "resnet18_traced = torch.jit.trace(resnet18, example_inputs = example_inputs)\n",
        "resnet18_traced.save(\"resnet18_traced.pt\")"
      ],
      "metadata": {
        "id": "ustyVU8bCyDp"
      },
      "execution_count": null,
      "outputs": []
    }
  ]
}